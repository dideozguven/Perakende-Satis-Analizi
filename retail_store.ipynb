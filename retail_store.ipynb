{
  "nbformat": 4,
  "nbformat_minor": 0,
  "metadata": {
    "colab": {
      "provenance": []
    },
    "kernelspec": {
      "name": "python3",
      "display_name": "Python 3"
    },
    "language_info": {
      "name": "python"
    }
  },
  "cells": [
    {
      "cell_type": "code",
      "execution_count": 3,
      "metadata": {
        "colab": {
          "base_uri": "https://localhost:8080/"
        },
        "id": "t2NzSZyC_RnD",
        "outputId": "d1e162c9-56eb-4da6-8bae-63067a8f4943"
      },
      "outputs": [
        {
          "output_type": "stream",
          "name": "stdout",
          "text": [
            "<class 'pandas.core.frame.DataFrame'>\n",
            "RangeIndex: 12575 entries, 0 to 12574\n",
            "Data columns (total 11 columns):\n",
            " #   Column            Non-Null Count  Dtype  \n",
            "---  ------            --------------  -----  \n",
            " 0   Transaction ID    12575 non-null  object \n",
            " 1   Customer ID       12575 non-null  object \n",
            " 2   Category          12575 non-null  object \n",
            " 3   Item              11362 non-null  object \n",
            " 4   Price Per Unit    11966 non-null  float64\n",
            " 5   Quantity          11971 non-null  float64\n",
            " 6   Total Spent       11971 non-null  float64\n",
            " 7   Payment Method    12575 non-null  object \n",
            " 8   Location          12575 non-null  object \n",
            " 9   Transaction Date  12575 non-null  object \n",
            " 10  Discount Applied  8376 non-null   object \n",
            "dtypes: float64(3), object(8)\n",
            "memory usage: 1.1+ MB\n",
            "None\n",
            "Transaction ID         0\n",
            "Customer ID            0\n",
            "Category               0\n",
            "Item                1213\n",
            "Price Per Unit       609\n",
            "Quantity             604\n",
            "Total Spent          604\n",
            "Payment Method         0\n",
            "Location               0\n",
            "Transaction Date       0\n",
            "Discount Applied    4199\n",
            "dtype: int64\n"
          ]
        }
      ],
      "source": [
        "import pandas as pd\n",
        "import numpy as np\n",
        "from sklearn.model_selection import train_test_split\n",
        "from sklearn.linear_model import LinearRegression\n",
        "from sklearn.preprocessing import LabelEncoder\n",
        "from sklearn.metrics import mean_squared_error, r2_score,mean_absolute_error\n",
        "df = pd.read_csv('retail_store_sales.csv')\n",
        "print(df.info())\n",
        "print(df.isnull().sum()) #Her sütunda kaç eksik veri var?"
      ]
    },
    {
      "cell_type": "code",
      "source": [
        "import pandas as pd\n",
        "import numpy as np\n",
        "from sklearn.model_selection import train_test_split\n",
        "from sklearn.preprocessing import LabelEncoder\n",
        "from sklearn.impute import SimpleImputer\n",
        "\n",
        "# Eksik Verilerin İşlenmesi\n",
        "# Sayısal sütunlardaki eksik verileri ortalama ile doldurduk.\n",
        "numeric_columns = df.select_dtypes(include=[np.number]).columns\n",
        "imputer = SimpleImputer(strategy='mean')\n",
        "df[numeric_columns] = imputer.fit_transform(df[numeric_columns])\n",
        "\n",
        "# Kategorik sütunlardaki eksik verileri en sık görülen değerle doldurduk.\n",
        "categorical_columns = df.select_dtypes(include=[object]).columns\n",
        "imputer_cat = SimpleImputer(strategy='most_frequent')\n",
        "df[categorical_columns] = imputer_cat.fit_transform(df[categorical_columns])\n",
        "\n",
        "# Label Encoding uygulayarak kategorik sütunları sayısal verilere dönüştürüyoruz\n",
        "label_encoder = LabelEncoder()\n",
        "for col in categorical_columns:\n",
        "    df[col] = label_encoder.fit_transform(df[col])\n"
      ],
      "metadata": {
        "id": "X0laCu0NAyu0"
      },
      "execution_count": 4,
      "outputs": []
    },
    {
      "cell_type": "code",
      "source": [
        "import numpy as np\n",
        "from sklearn.model_selection import train_test_split\n",
        "from sklearn.linear_model import LinearRegression\n",
        "from sklearn.metrics import mean_squared_error, mean_absolute_error, r2_score\n",
        "X = df.drop(columns=['Transaction ID', 'Customer ID', 'Transaction Date', 'Total Spent'])\n",
        "y = df['Total Spent']\n",
        "\n",
        "# Eğitim ve Test Setine Ayırma\n",
        "X_train, X_test, y_train, y_test = train_test_split(X, y, test_size=0.2, random_state=42)\n",
        "\n",
        "# Lineer Regresyon Modeli\n",
        "model = LinearRegression()\n",
        "\n",
        "# Modeli eğitme\n",
        "model.fit(X_train, y_train)\n",
        "\n",
        "# Tahmin Yapma\n",
        "y_pred = model.predict(X_test)\n",
        "\n",
        "# Model Değerlendirme\n",
        "mse = mean_squared_error(y_test, y_pred)\n",
        "mae = mean_absolute_error(y_test, y_pred)\n",
        "r2 = r2_score(y_test, y_pred)\n",
        "\n",
        "# Sonuçları yazdırma\n",
        "print(\"Mean Squared Error (MSE):\", mse)\n",
        "print(\"Mean Absolute Error (MAE):\", mae)\n",
        "print(\"R-squared (R²):\", r2)\n",
        "\n",
        "r2_percent = r2 * 100\n",
        "print(f\"R-squared (Percentage): {r2_percent:.2f}%\")"
      ],
      "metadata": {
        "colab": {
          "base_uri": "https://localhost:8080/"
        },
        "id": "-jurt9LGA8yk",
        "outputId": "59b9d1ea-cbe4-464f-b3a4-d565e2f0a000"
      },
      "execution_count": 5,
      "outputs": [
        {
          "output_type": "stream",
          "name": "stdout",
          "text": [
            "Mean Squared Error (MSE): 1286.87716172463\n",
            "Mean Absolute Error (MAE): 26.131206218864744\n",
            "R-squared (R²): 0.8530210209053578\n",
            "R-squared (Percentage): 85.30%\n"
          ]
        }
      ]
    },
    {
      "cell_type": "code",
      "source": [
        "from sklearn.model_selection import train_test_split\n",
        "from sklearn.ensemble import RandomForestRegressor\n",
        "X = df.drop(columns=['Transaction ID', 'Customer ID', 'Transaction Date', 'Total Spent'])\n",
        "y = df['Total Spent']\n",
        "\n",
        "#Eğitim ve Test Setine Ayırma\n",
        "X_train, X_test, y_train, y_test = train_test_split(X, y, test_size=0.2, random_state=42)\n",
        "\n",
        "#Random Forest Regressor Modeli\n",
        "rf_model = RandomForestRegressor(n_estimators=100, random_state=42)\n",
        "\n",
        "#Modeli eğitme\n",
        "rf_model.fit(X_train, y_train)\n",
        "\n",
        "#Tahmin Yapma\n",
        "y_pred = rf_model.predict(X_test)\n",
        "\n",
        "#Model Değerlendirme\n",
        "mse = mean_squared_error(y_test, y_pred)\n",
        "mae = mean_absolute_error(y_test, y_pred)\n",
        "r2 = r2_score(y_test, y_pred)\n",
        "\n",
        "#Sonuçları yazdırma\n",
        "print(\"Mean Squared Error (MSE):\", mse)\n",
        "print(\"Mean Absolute Error (MAE):\", mae)\n",
        "print(\"R-squared (R²):\", r2)\n",
        "r2_percent = r2 * 100\n",
        "print(f\"R-squared (Percentage): {r2_percent:.2f}%\")"
      ],
      "metadata": {
        "colab": {
          "base_uri": "https://localhost:8080/"
        },
        "id": "RkfKki5DCou-",
        "outputId": "1a58edb3-75e1-4787-d63b-32a2c9f994b7"
      },
      "execution_count": 6,
      "outputs": [
        {
          "output_type": "stream",
          "name": "stdout",
          "text": [
            "Mean Squared Error (MSE): 386.25348128055305\n",
            "Mean Absolute Error (MAE): 3.5468970661448544\n",
            "R-squared (R²): 0.9558845676658957\n",
            "R-squared (Percentage): 95.59%\n"
          ]
        }
      ]
    },
    {
      "cell_type": "code",
      "source": [
        "from sklearn.model_selection import train_test_split\n",
        "from sklearn.preprocessing import LabelEncoder, StandardScaler\n",
        "from sklearn.svm import SVR\n",
        "from sklearn.metrics import mean_squared_error, mean_absolute_error, r2_score\n",
        "X = df.drop(columns=['Transaction ID', 'Customer ID', 'Transaction Date', 'Total Spent'])\n",
        "y = df['Total Spent']\n",
        "\n",
        "#Eğitim ve Test Setine Ayırma\n",
        "X_train, X_test, y_train, y_test = train_test_split(X, y, test_size=0.2, random_state=42)\n",
        "\n",
        "#Özelliklerin Ölçeklendirilmesi (SVR için önemlidir)\n",
        "scaler_X = StandardScaler()\n",
        "X_train_scaled = scaler_X.fit_transform(X_train)\n",
        "X_test_scaled = scaler_X.transform(X_test)\n",
        "\n",
        "#SVR Modeli\n",
        "svr_model = SVR(kernel='rbf')\n",
        "\n",
        "# Modeli eğitme\n",
        "svr_model.fit(X_train_scaled, y_train)\n",
        "\n",
        "#Tahmin Yapma\n",
        "y_pred = svr_model.predict(X_test_scaled)\n",
        "\n",
        "#Model Değerlendirme\n",
        "mse = mean_squared_error(y_test, y_pred)\n",
        "mae = mean_absolute_error(y_test, y_pred)\n",
        "r2 = r2_score(y_test, y_pred)\n",
        "\n",
        "#Sonuçları yazdırma\n",
        "print(\"Mean Squared Error (MSE):\", mse)\n",
        "print(\"Mean Absolute Error (MAE):\", mae)\n",
        "print(\"R-squared (R²):\", r2)\n",
        "r2_percent = r2 * 100\n",
        "print(f\"R-squared (Percentage): {r2_percent:.2f}%\")"
      ],
      "metadata": {
        "colab": {
          "base_uri": "https://localhost:8080/"
        },
        "id": "26bnsVIQEDTs",
        "outputId": "93bd3094-19df-4a3f-a6cb-52cac1a2a699"
      },
      "execution_count": 7,
      "outputs": [
        {
          "output_type": "stream",
          "name": "stdout",
          "text": [
            "Mean Squared Error (MSE): 702.0847536982345\n",
            "Mean Absolute Error (MAE): 13.521735351383759\n",
            "R-squared (R²): 0.9198123151100251\n",
            "R-squared (Percentage): 91.98%\n"
          ]
        }
      ]
    },
    {
      "cell_type": "code",
      "source": [
        "import numpy as np\n",
        "from sklearn.model_selection import train_test_split\n",
        "from sklearn.tree import DecisionTreeRegressor\n",
        "from sklearn.metrics import mean_squared_error, mean_absolute_error, r2_score\n",
        "X = df.drop(columns=['Transaction ID', 'Customer ID', 'Transaction Date', 'Total Spent'])\n",
        "y = df['Total Spent']\n",
        "\n",
        "#Eğitim ve Test Setine Ayırma\n",
        "X_train, X_test, y_train, y_test = train_test_split(X, y, test_size=0.2, random_state=42)\n",
        "\n",
        "#Decision Tree Regressor Modeli\n",
        "dt_model = DecisionTreeRegressor(random_state=42)\n",
        "\n",
        "# Modeli eğitme\n",
        "dt_model.fit(X_train, y_train)\n",
        "\n",
        "# Tahmin Yapma\n",
        "y_pred = dt_model.predict(X_test)\n",
        "\n",
        "#Model Değerlendirme\n",
        "mse = mean_squared_error(y_test, y_pred)\n",
        "mae = mean_absolute_error(y_test, y_pred)\n",
        "r2 = r2_score(y_test, y_pred)\n",
        "\n",
        "# Sonuçları yazdırma\n",
        "print(\"Mean Squared Error (MSE):\", mse)\n",
        "print(\"Mean Absolute Error (MAE):\", mae)\n",
        "print(\"R-squared (R²):\", r2)\n",
        "r2_percent = r2 * 100\n",
        "print(f\"R-squared (Percentage): {r2_percent:.2f}%\")"
      ],
      "metadata": {
        "colab": {
          "base_uri": "https://localhost:8080/"
        },
        "id": "G7l1Lrq1EXxK",
        "outputId": "78c5aab0-8db0-483a-8079-27bbe18e61bf"
      },
      "execution_count": 9,
      "outputs": [
        {
          "output_type": "stream",
          "name": "stdout",
          "text": [
            "Mean Squared Error (MSE): 590.354796222664\n",
            "Mean Absolute Error (MAE): 4.270079522862832\n",
            "R-squared (R²): 0.9325734049579785\n",
            "R-squared (Percentage): 93.26%\n"
          ]
        }
      ]
    },
    {
      "cell_type": "code",
      "source": [
        "import matplotlib.pyplot as plt\n",
        "import pandas as pd\n",
        "\n",
        "#hata metrikleri\n",
        "data = {\n",
        "    \"Model\": [\"Linear Regression\", \"Decision Tree Regressor\", \"Random Forest Regressor\", \"SVR\"],\n",
        "    \"MSE\": [1286.87, 590.35, 386.25, 702.084],\n",
        "    \"MAE\": [26.13, 4.27, 3.54, 13.52],\n",
        "    \"R²\": [85.30, 93.26, 95.58, 91.98]\n",
        "}\n",
        "\n",
        "# Verileri DataFrame'e çevirme\n",
        "results_df = pd.DataFrame(data)\n",
        "\n",
        "# Grafik oluşturma\n",
        "fig, axes = plt.subplots(1, 3, figsize=(18, 5), dpi=100)\n",
        "\n",
        "# MSE Grafiği\n",
        "axes[0].bar(results_df['Model'], results_df['MSE'], color='skyblue')\n",
        "axes[0].set_title('MSE (Mean Squared Error)', fontsize=14)\n",
        "axes[0].set_ylabel('MSE', fontsize=12)\n",
        "axes[0].set_xticklabels(results_df['Model'], rotation=45)\n",
        "\n",
        "# MAE Grafiği\n",
        "axes[1].bar(results_df['Model'], results_df['MAE'], color='salmon')\n",
        "axes[1].set_title('MAE (Mean Absolute Error)', fontsize=14)\n",
        "axes[1].set_ylabel('MAE', fontsize=12)\n",
        "axes[1].set_xticklabels(results_df['Model'], rotation=45)\n",
        "\n",
        "# R² Grafiği\n",
        "axes[2].bar(results_df['Model'], results_df['R²'], color='lightgreen')\n",
        "axes[2].set_title('R² (R-squared)', fontsize=14)\n",
        "axes[2].set_ylabel('R² (%)', fontsize=12)\n",
        "axes[2].set_xticklabels(results_df['Model'], rotation=45)\n",
        "\n",
        "plt.tight_layout()\n",
        "plt.show()\n"
      ],
      "metadata": {
        "colab": {
          "base_uri": "https://localhost:8080/",
          "height": 446
        },
        "id": "PafmCe0fWVdc",
        "outputId": "f90453b1-d158-4739-f75e-ef21477a62bc"
      },
      "execution_count": 19,
      "outputs": [
        {
          "output_type": "stream",
          "name": "stderr",
          "text": [
            "<ipython-input-19-cefc898292bc>:22: UserWarning: set_ticklabels() should only be used with a fixed number of ticks, i.e. after set_ticks() or using a FixedLocator.\n",
            "  axes[0].set_xticklabels(results_df['Model'], rotation=45)\n",
            "<ipython-input-19-cefc898292bc>:28: UserWarning: set_ticklabels() should only be used with a fixed number of ticks, i.e. after set_ticks() or using a FixedLocator.\n",
            "  axes[1].set_xticklabels(results_df['Model'], rotation=45)\n",
            "<ipython-input-19-cefc898292bc>:34: UserWarning: set_ticklabels() should only be used with a fixed number of ticks, i.e. after set_ticks() or using a FixedLocator.\n",
            "  axes[2].set_xticklabels(results_df['Model'], rotation=45)\n"
          ]
        },
        {
          "output_type": "display_data",
          "data": {
            "text/plain": [
              "<Figure size 1800x500 with 3 Axes>"
            ],
            "image/png": "[encoded data removed]"
          },
          "metadata": {}
        }
      ]
    }
  ]
}